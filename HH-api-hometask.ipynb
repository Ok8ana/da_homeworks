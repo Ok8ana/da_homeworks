{
 "cells": [
  {
   "cell_type": "markdown",
   "metadata": {
    "toc": true
   },
   "source": [
    "<h1>Table of Contents<span class=\"tocSkip\"></span></h1>\n",
    "<div class=\"toc\"><ul class=\"toc-item\"><li><span><a href=\"#Задание\" data-toc-modified-id=\"Задание-1\"><span class=\"toc-item-num\">1&nbsp;&nbsp;</span>Задание</a></span></li></ul></div>"
   ]
  },
  {
   "cell_type": "markdown",
   "metadata": {
    "pycharm": {
     "name": "#%% md\n"
    }
   },
   "source": [
    "# Задание\n",
    "* Скачать все вакансии СБЕРа с ХХ (у апи есть ограничение в 2000, а также captcha подумайте как их можно обойти)\n",
    "* Извлеките все описания этих вакансий\n",
    "* Создайте аналогичный vacancy DataFrame только добавьте поле skills\n",
    "* Переведите даты публикаций в datetime\n",
    "* Постройте график опубликованных вакансий по датам\n",
    "* Переведите даты в дни недели, и определите день недели, в который больше всего публикуют вакансий\n",
    "* Найдите те вакансии с использованием python, которые вам интересны\n",
    "* Определите по полю skills какие навыки больше всего востребованы для этих вакансий\n",
    "* Постройте график наиболее востребованных навыков для аналитика данных"
   ]
  },
  {
   "cell_type": "markdown",
   "metadata": {
    "pycharm": {
     "name": "#%% md\n"
    }
   },
   "source": [
    "https://github.com/hhru/api"
   ]
  },
  {
   "cell_type": "code",
   "execution_count": 1,
   "metadata": {
    "pycharm": {
     "name": "#%%\n"
    }
   },
   "outputs": [],
   "source": [
    "import requests\n",
    "import json\n",
    "from tqdm.auto import tqdm\n",
    "from collections import defaultdict\n",
    "import pickle\n",
    "import pandas as pd"
   ]
  },
  {
   "cell_type": "code",
   "execution_count": 2,
   "metadata": {
    "pycharm": {
     "name": "#%%\n"
    }
   },
   "outputs": [],
   "source": [
    "sber = '3529'\n",
    "page = 1\n",
    "num_per_page = 100\n",
    "moscow = 1\n",
    "url = f'https://api.hh.ru/vacancies?employer_id={sber}&page={page}&per_page={num_per_page}&area={moscow}'"
   ]
  },
  {
   "cell_type": "code",
   "execution_count": 3,
   "metadata": {
    "pycharm": {
     "name": "#%%\n"
    }
   },
   "outputs": [],
   "source": [
    "res = requests.get(url)"
   ]
  },
  {
   "cell_type": "code",
   "execution_count": 40,
   "metadata": {},
   "outputs": [
    {
     "data": {
      "text/plain": [
       "<Response [200]>"
      ]
     },
     "execution_count": 40,
     "metadata": {},
     "output_type": "execute_result"
    }
   ],
   "source": [
    "res"
   ]
  },
  {
   "cell_type": "code",
   "execution_count": 42,
   "metadata": {},
   "outputs": [],
   "source": [
    "#res.content"
   ]
  },
  {
   "cell_type": "code",
   "execution_count": 87,
   "metadata": {
    "pycharm": {
     "name": "#%%\n"
    }
   },
   "outputs": [],
   "source": [
    "#res.json()"
   ]
  },
  {
   "cell_type": "code",
   "execution_count": 6,
   "metadata": {
    "pycharm": {
     "name": "#%%\n"
    }
   },
   "outputs": [
    {
     "data": {
      "text/plain": [
       "13"
      ]
     },
     "execution_count": 6,
     "metadata": {},
     "output_type": "execute_result"
    }
   ],
   "source": [
    "vacancies = res.json()\n",
    "num_pages = vacancies.get('pages')\n",
    "num_pages"
   ]
  },
  {
   "cell_type": "code",
   "execution_count": 7,
   "metadata": {
    "pycharm": {
     "name": "#%%\n"
    }
   },
   "outputs": [],
   "source": [
    "v = vacancies.get('items')"
   ]
  },
  {
   "cell_type": "code",
   "execution_count": 9,
   "metadata": {
    "pycharm": {
     "name": "#%%\n"
    }
   },
   "outputs": [],
   "source": [
    " #v[0].get('')"
   ]
  },
  {
   "cell_type": "code",
   "execution_count": 10,
   "metadata": {
    "pycharm": {
     "name": "#%%\n"
    },
    "scrolled": true
   },
   "outputs": [
    {
     "data": {
      "text/plain": [
       "dict_keys(['items', 'found', 'pages', 'per_page', 'page', 'clusters', 'arguments', 'alternate_url'])"
      ]
     },
     "execution_count": 10,
     "metadata": {},
     "output_type": "execute_result"
    }
   ],
   "source": [
    "vacancies.keys()"
   ]
  },
  {
   "cell_type": "code",
   "execution_count": 10,
   "metadata": {
    "pycharm": {
     "name": "#%%\n"
    }
   },
   "outputs": [],
   "source": [
    "vacancies = res.json()\n",
    "num_pages = vacancies.get('pages')\n",
    "vacancy_ids = [el.get('id') for el in vacancies.get('items')]"
   ]
  },
  {
   "cell_type": "code",
   "execution_count": 11,
   "metadata": {
    "pycharm": {
     "name": "#%%\n"
    }
   },
   "outputs": [
    {
     "data": {
      "text/plain": [
       "dict_keys(['items', 'found', 'pages', 'per_page', 'page', 'clusters', 'arguments', 'alternate_url'])"
      ]
     },
     "execution_count": 11,
     "metadata": {},
     "output_type": "execute_result"
    }
   ],
   "source": [
    "vacancies.keys()"
   ]
  },
  {
   "cell_type": "code",
   "execution_count": 43,
   "metadata": {},
   "outputs": [
    {
     "data": {
      "text/plain": [
       "1284"
      ]
     },
     "execution_count": 43,
     "metadata": {},
     "output_type": "execute_result"
    }
   ],
   "source": [
    "vacancies.get('found')"
   ]
  },
  {
   "cell_type": "code",
   "execution_count": 45,
   "metadata": {},
   "outputs": [],
   "source": [
    "vnum  = vacancies.get('pages')"
   ]
  },
  {
   "cell_type": "code",
   "execution_count": 46,
   "metadata": {
    "pycharm": {
     "name": "#%%\n"
    }
   },
   "outputs": [
    {
     "data": {
      "application/vnd.jupyter.widget-view+json": {
       "model_id": "2d56f5cc6cb844dfbb19b4961cd1f761",
       "version_major": 2,
       "version_minor": 0
      },
      "text/plain": [
       "  0%|          | 0/13 [00:00<?, ?it/s]"
      ]
     },
     "metadata": {},
     "output_type": "display_data"
    }
   ],
   "source": [
    "all_vacancy_ids= []\n",
    "for i in tqdm(range(vnum)):\n",
    "    url = f'https://api.hh.ru/vacancies?employer_id={sber}&page={i}&per_page={num_per_page}&area={moscow}'\n",
    "    res = requests.get(url)\n",
    "    vacancies = res.json()\n",
    "    vacancy_ids = [el.get('id') for el in vacancies.get('items')]\n",
    "    all_vacancy_ids.extend(vacancy_ids)"
   ]
  },
  {
   "cell_type": "code",
   "execution_count": 47,
   "metadata": {
    "pycharm": {
     "name": "#%%\n"
    }
   },
   "outputs": [
    {
     "data": {
      "text/plain": [
       "1284"
      ]
     },
     "execution_count": 47,
     "metadata": {},
     "output_type": "execute_result"
    }
   ],
   "source": [
    "len(all_vacancy_ids)"
   ]
  },
  {
   "cell_type": "code",
   "execution_count": 53,
   "metadata": {
    "pycharm": {
     "name": "#%%\n"
    }
   },
   "outputs": [],
   "source": [
    "url = f'https://api.hh.ru/vacancies/{all_vacancy_ids[0]}'\n"
   ]
  },
  {
   "cell_type": "code",
   "execution_count": 54,
   "metadata": {
    "pycharm": {
     "name": "#%%\n"
    }
   },
   "outputs": [],
   "source": [
    "res = requests.get(url)"
   ]
  },
  {
   "cell_type": "code",
   "execution_count": 55,
   "metadata": {
    "pycharm": {
     "name": "#%%\n"
    }
   },
   "outputs": [
    {
     "data": {
      "text/plain": [
       "[{'name': 'Активные продажи'},\n",
       " {'name': 'Проведение презентаций'},\n",
       " {'name': 'Привлечение клиентов'},\n",
       " {'name': 'Навыки продаж'}]"
      ]
     },
     "execution_count": 55,
     "metadata": {},
     "output_type": "execute_result"
    }
   ],
   "source": [
    "res.json().get('key_skills')"
   ]
  },
  {
   "cell_type": "code",
   "execution_count": 17,
   "metadata": {
    "pycharm": {
     "name": "#%%\n"
    }
   },
   "outputs": [
    {
     "data": {
      "application/vnd.jupyter.widget-view+json": {
       "model_id": "1a93272e774649db9f60e1fdaf22caff",
       "version_major": 2,
       "version_minor": 0
      },
      "text/plain": [
       "  0%|          | 0/1284 [00:00<?, ?it/s]"
      ]
     },
     "metadata": {},
     "output_type": "display_data"
    }
   ],
   "source": [
    "sber_vacs = []\n",
    "for i in tqdm(all_vacancy_ids):\n",
    "    url = f'https://api.hh.ru/vacancies/{i}'\n",
    "    sber_vacs.append(requests.get(url.format(i)).json())   "
   ]
  },
  {
   "cell_type": "code",
   "execution_count": 19,
   "metadata": {},
   "outputs": [],
   "source": [
    "df = pd.DataFrame(sber_vacs)"
   ]
  },
  {
   "cell_type": "code",
   "execution_count": 20,
   "metadata": {},
   "outputs": [
    {
     "data": {
      "text/html": [
       "<div>\n",
       "<style scoped>\n",
       "    .dataframe tbody tr th:only-of-type {\n",
       "        vertical-align: middle;\n",
       "    }\n",
       "\n",
       "    .dataframe tbody tr th {\n",
       "        vertical-align: top;\n",
       "    }\n",
       "\n",
       "    .dataframe thead th {\n",
       "        text-align: right;\n",
       "    }\n",
       "</style>\n",
       "<table border=\"1\" class=\"dataframe\">\n",
       "  <thead>\n",
       "    <tr style=\"text-align: right;\">\n",
       "      <th></th>\n",
       "      <th>id</th>\n",
       "      <th>premium</th>\n",
       "      <th>billing_type</th>\n",
       "      <th>relations</th>\n",
       "      <th>name</th>\n",
       "      <th>insider_interview</th>\n",
       "      <th>response_letter_required</th>\n",
       "      <th>area</th>\n",
       "      <th>salary</th>\n",
       "      <th>type</th>\n",
       "      <th>...</th>\n",
       "      <th>apply_alternate_url</th>\n",
       "      <th>has_test</th>\n",
       "      <th>test</th>\n",
       "      <th>alternate_url</th>\n",
       "      <th>working_days</th>\n",
       "      <th>working_time_intervals</th>\n",
       "      <th>working_time_modes</th>\n",
       "      <th>accept_temporary</th>\n",
       "      <th>languages</th>\n",
       "      <th>immediate_redirect_url</th>\n",
       "    </tr>\n",
       "  </thead>\n",
       "  <tbody>\n",
       "    <tr>\n",
       "      <th>0</th>\n",
       "      <td>53361761</td>\n",
       "      <td>False</td>\n",
       "      <td>{'id': 'standard', 'name': 'Стандарт'}</td>\n",
       "      <td>[]</td>\n",
       "      <td>Клиентский менеджер малого и микробизнеса</td>\n",
       "      <td>None</td>\n",
       "      <td>False</td>\n",
       "      <td>{'id': '1', 'name': 'Москва', 'url': 'https://...</td>\n",
       "      <td>{'from': 93900, 'to': None, 'currency': 'RUR',...</td>\n",
       "      <td>{'id': 'open', 'name': 'Открытая'}</td>\n",
       "      <td>...</td>\n",
       "      <td>https://hh.ru/applicant/vacancy_response?vacan...</td>\n",
       "      <td>False</td>\n",
       "      <td>None</td>\n",
       "      <td>https://hh.ru/vacancy/53361761</td>\n",
       "      <td>[]</td>\n",
       "      <td>[]</td>\n",
       "      <td>[]</td>\n",
       "      <td>False</td>\n",
       "      <td>[]</td>\n",
       "      <td>NaN</td>\n",
       "    </tr>\n",
       "    <tr>\n",
       "      <th>1</th>\n",
       "      <td>55415805</td>\n",
       "      <td>False</td>\n",
       "      <td>{'id': 'standard', 'name': 'Стандарт'}</td>\n",
       "      <td>[]</td>\n",
       "      <td>Менеджер по работе с клиентами</td>\n",
       "      <td>None</td>\n",
       "      <td>False</td>\n",
       "      <td>{'id': '1', 'name': 'Москва', 'url': 'https://...</td>\n",
       "      <td>{'from': 98800, 'to': None, 'currency': 'RUR',...</td>\n",
       "      <td>{'id': 'open', 'name': 'Открытая'}</td>\n",
       "      <td>...</td>\n",
       "      <td>https://hh.ru/applicant/vacancy_response?vacan...</td>\n",
       "      <td>False</td>\n",
       "      <td>None</td>\n",
       "      <td>https://hh.ru/vacancy/55415805</td>\n",
       "      <td>[]</td>\n",
       "      <td>[]</td>\n",
       "      <td>[]</td>\n",
       "      <td>False</td>\n",
       "      <td>[]</td>\n",
       "      <td>NaN</td>\n",
       "    </tr>\n",
       "    <tr>\n",
       "      <th>2</th>\n",
       "      <td>55415496</td>\n",
       "      <td>False</td>\n",
       "      <td>{'id': 'standard', 'name': 'Стандарт'}</td>\n",
       "      <td>[]</td>\n",
       "      <td>Клиентский менеджер прямых продаж</td>\n",
       "      <td>None</td>\n",
       "      <td>False</td>\n",
       "      <td>{'id': '1', 'name': 'Москва', 'url': 'https://...</td>\n",
       "      <td>{'from': 98800, 'to': None, 'currency': 'RUR',...</td>\n",
       "      <td>{'id': 'open', 'name': 'Открытая'}</td>\n",
       "      <td>...</td>\n",
       "      <td>https://hh.ru/applicant/vacancy_response?vacan...</td>\n",
       "      <td>False</td>\n",
       "      <td>None</td>\n",
       "      <td>https://hh.ru/vacancy/55415496</td>\n",
       "      <td>[]</td>\n",
       "      <td>[]</td>\n",
       "      <td>[]</td>\n",
       "      <td>False</td>\n",
       "      <td>[]</td>\n",
       "      <td>NaN</td>\n",
       "    </tr>\n",
       "    <tr>\n",
       "      <th>3</th>\n",
       "      <td>45790891</td>\n",
       "      <td>False</td>\n",
       "      <td>{'id': 'standard', 'name': 'Стандарт'}</td>\n",
       "      <td>[]</td>\n",
       "      <td>Менеджер по работе с ключевыми клиентами малог...</td>\n",
       "      <td>None</td>\n",
       "      <td>False</td>\n",
       "      <td>{'id': '1', 'name': 'Москва', 'url': 'https://...</td>\n",
       "      <td>{'from': 119300, 'to': None, 'currency': 'RUR'...</td>\n",
       "      <td>{'id': 'open', 'name': 'Открытая'}</td>\n",
       "      <td>...</td>\n",
       "      <td>https://hh.ru/applicant/vacancy_response?vacan...</td>\n",
       "      <td>False</td>\n",
       "      <td>None</td>\n",
       "      <td>https://hh.ru/vacancy/45790891</td>\n",
       "      <td>[]</td>\n",
       "      <td>[]</td>\n",
       "      <td>[]</td>\n",
       "      <td>False</td>\n",
       "      <td>[]</td>\n",
       "      <td>NaN</td>\n",
       "    </tr>\n",
       "    <tr>\n",
       "      <th>4</th>\n",
       "      <td>55889794</td>\n",
       "      <td>False</td>\n",
       "      <td>{'id': 'standard', 'name': 'Стандарт'}</td>\n",
       "      <td>[]</td>\n",
       "      <td>Финансовый консультант</td>\n",
       "      <td>None</td>\n",
       "      <td>False</td>\n",
       "      <td>{'id': '1', 'name': 'Москва', 'url': 'https://...</td>\n",
       "      <td>{'from': 68400, 'to': None, 'currency': 'RUR',...</td>\n",
       "      <td>{'id': 'open', 'name': 'Открытая'}</td>\n",
       "      <td>...</td>\n",
       "      <td>https://hh.ru/applicant/vacancy_response?vacan...</td>\n",
       "      <td>False</td>\n",
       "      <td>None</td>\n",
       "      <td>https://hh.ru/vacancy/55889794</td>\n",
       "      <td>[]</td>\n",
       "      <td>[]</td>\n",
       "      <td>[]</td>\n",
       "      <td>False</td>\n",
       "      <td>[]</td>\n",
       "      <td>NaN</td>\n",
       "    </tr>\n",
       "    <tr>\n",
       "      <th>...</th>\n",
       "      <td>...</td>\n",
       "      <td>...</td>\n",
       "      <td>...</td>\n",
       "      <td>...</td>\n",
       "      <td>...</td>\n",
       "      <td>...</td>\n",
       "      <td>...</td>\n",
       "      <td>...</td>\n",
       "      <td>...</td>\n",
       "      <td>...</td>\n",
       "      <td>...</td>\n",
       "      <td>...</td>\n",
       "      <td>...</td>\n",
       "      <td>...</td>\n",
       "      <td>...</td>\n",
       "      <td>...</td>\n",
       "      <td>...</td>\n",
       "      <td>...</td>\n",
       "      <td>...</td>\n",
       "      <td>...</td>\n",
       "      <td>...</td>\n",
       "    </tr>\n",
       "    <tr>\n",
       "      <th>1279</th>\n",
       "      <td>55416949</td>\n",
       "      <td>False</td>\n",
       "      <td>{'id': 'standard', 'name': 'Стандарт'}</td>\n",
       "      <td>[]</td>\n",
       "      <td>Python разработчик</td>\n",
       "      <td>None</td>\n",
       "      <td>False</td>\n",
       "      <td>{'id': '1', 'name': 'Москва', 'url': 'https://...</td>\n",
       "      <td>None</td>\n",
       "      <td>{'id': 'open', 'name': 'Открытая'}</td>\n",
       "      <td>...</td>\n",
       "      <td>https://hh.ru/applicant/vacancy_response?vacan...</td>\n",
       "      <td>False</td>\n",
       "      <td>None</td>\n",
       "      <td>https://hh.ru/vacancy/55416949</td>\n",
       "      <td>[]</td>\n",
       "      <td>[]</td>\n",
       "      <td>[]</td>\n",
       "      <td>False</td>\n",
       "      <td>[]</td>\n",
       "      <td>NaN</td>\n",
       "    </tr>\n",
       "    <tr>\n",
       "      <th>1280</th>\n",
       "      <td>67396237</td>\n",
       "      <td>True</td>\n",
       "      <td>{'id': 'premium', 'name': 'Премиум'}</td>\n",
       "      <td>[]</td>\n",
       "      <td>Data инженер (Рекламная платформа)</td>\n",
       "      <td>None</td>\n",
       "      <td>False</td>\n",
       "      <td>{'id': '1', 'name': 'Москва', 'url': 'https://...</td>\n",
       "      <td>None</td>\n",
       "      <td>{'id': 'open', 'name': 'Открытая'}</td>\n",
       "      <td>...</td>\n",
       "      <td>https://hh.ru/applicant/vacancy_response?vacan...</td>\n",
       "      <td>False</td>\n",
       "      <td>None</td>\n",
       "      <td>https://hh.ru/vacancy/67396237</td>\n",
       "      <td>[]</td>\n",
       "      <td>[]</td>\n",
       "      <td>[]</td>\n",
       "      <td>False</td>\n",
       "      <td>[]</td>\n",
       "      <td>NaN</td>\n",
       "    </tr>\n",
       "    <tr>\n",
       "      <th>1281</th>\n",
       "      <td>53931712</td>\n",
       "      <td>True</td>\n",
       "      <td>{'id': 'premium', 'name': 'Премиум'}</td>\n",
       "      <td>[]</td>\n",
       "      <td>ETL разработчик</td>\n",
       "      <td>None</td>\n",
       "      <td>False</td>\n",
       "      <td>{'id': '1', 'name': 'Москва', 'url': 'https://...</td>\n",
       "      <td>None</td>\n",
       "      <td>{'id': 'open', 'name': 'Открытая'}</td>\n",
       "      <td>...</td>\n",
       "      <td>https://hh.ru/applicant/vacancy_response?vacan...</td>\n",
       "      <td>False</td>\n",
       "      <td>None</td>\n",
       "      <td>https://hh.ru/vacancy/53931712</td>\n",
       "      <td>[]</td>\n",
       "      <td>[]</td>\n",
       "      <td>[]</td>\n",
       "      <td>False</td>\n",
       "      <td>[]</td>\n",
       "      <td>NaN</td>\n",
       "    </tr>\n",
       "    <tr>\n",
       "      <th>1282</th>\n",
       "      <td>67399016</td>\n",
       "      <td>True</td>\n",
       "      <td>{'id': 'premium', 'name': 'Премиум'}</td>\n",
       "      <td>[]</td>\n",
       "      <td>Менеджер по работе с ключевыми клиентами малог...</td>\n",
       "      <td>None</td>\n",
       "      <td>False</td>\n",
       "      <td>{'id': '1', 'name': 'Москва', 'url': 'https://...</td>\n",
       "      <td>{'from': 119300, 'to': None, 'currency': 'RUR'...</td>\n",
       "      <td>{'id': 'direct', 'name': 'Рекламная'}</td>\n",
       "      <td>...</td>\n",
       "      <td>https://hh.ru/applicant/vacancy_response?vacan...</td>\n",
       "      <td>False</td>\n",
       "      <td>None</td>\n",
       "      <td>https://hh.ru/vacancy/67399016</td>\n",
       "      <td>[]</td>\n",
       "      <td>[]</td>\n",
       "      <td>[]</td>\n",
       "      <td>False</td>\n",
       "      <td>[]</td>\n",
       "      <td>https://hh.ru/vacancy/45790891</td>\n",
       "    </tr>\n",
       "    <tr>\n",
       "      <th>1283</th>\n",
       "      <td>67399519</td>\n",
       "      <td>True</td>\n",
       "      <td>{'id': 'premium', 'name': 'Премиум'}</td>\n",
       "      <td>[]</td>\n",
       "      <td>Старший менеджер по привлечению корпоративных ...</td>\n",
       "      <td>None</td>\n",
       "      <td>False</td>\n",
       "      <td>{'id': '1', 'name': 'Москва', 'url': 'https://...</td>\n",
       "      <td>{'from': 146400, 'to': None, 'currency': 'RUR'...</td>\n",
       "      <td>{'id': 'direct', 'name': 'Рекламная'}</td>\n",
       "      <td>...</td>\n",
       "      <td>https://hh.ru/applicant/vacancy_response?vacan...</td>\n",
       "      <td>False</td>\n",
       "      <td>None</td>\n",
       "      <td>https://hh.ru/vacancy/67399519</td>\n",
       "      <td>[]</td>\n",
       "      <td>[]</td>\n",
       "      <td>[]</td>\n",
       "      <td>False</td>\n",
       "      <td>[]</td>\n",
       "      <td>https://hh.ru/vacancy/45381514</td>\n",
       "    </tr>\n",
       "  </tbody>\n",
       "</table>\n",
       "<p>1284 rows × 48 columns</p>\n",
       "</div>"
      ],
      "text/plain": [
       "            id  premium                            billing_type relations  \\\n",
       "0     53361761    False  {'id': 'standard', 'name': 'Стандарт'}        []   \n",
       "1     55415805    False  {'id': 'standard', 'name': 'Стандарт'}        []   \n",
       "2     55415496    False  {'id': 'standard', 'name': 'Стандарт'}        []   \n",
       "3     45790891    False  {'id': 'standard', 'name': 'Стандарт'}        []   \n",
       "4     55889794    False  {'id': 'standard', 'name': 'Стандарт'}        []   \n",
       "...        ...      ...                                     ...       ...   \n",
       "1279  55416949    False  {'id': 'standard', 'name': 'Стандарт'}        []   \n",
       "1280  67396237     True    {'id': 'premium', 'name': 'Премиум'}        []   \n",
       "1281  53931712     True    {'id': 'premium', 'name': 'Премиум'}        []   \n",
       "1282  67399016     True    {'id': 'premium', 'name': 'Премиум'}        []   \n",
       "1283  67399519     True    {'id': 'premium', 'name': 'Премиум'}        []   \n",
       "\n",
       "                                                   name insider_interview  \\\n",
       "0             Клиентский менеджер малого и микробизнеса              None   \n",
       "1                        Менеджер по работе с клиентами              None   \n",
       "2                     Клиентский менеджер прямых продаж              None   \n",
       "3     Менеджер по работе с ключевыми клиентами малог...              None   \n",
       "4                                Финансовый консультант              None   \n",
       "...                                                 ...               ...   \n",
       "1279                                 Python разработчик              None   \n",
       "1280                 Data инженер (Рекламная платформа)              None   \n",
       "1281                                    ETL разработчик              None   \n",
       "1282  Менеджер по работе с ключевыми клиентами малог...              None   \n",
       "1283  Старший менеджер по привлечению корпоративных ...              None   \n",
       "\n",
       "      response_letter_required  \\\n",
       "0                        False   \n",
       "1                        False   \n",
       "2                        False   \n",
       "3                        False   \n",
       "4                        False   \n",
       "...                        ...   \n",
       "1279                     False   \n",
       "1280                     False   \n",
       "1281                     False   \n",
       "1282                     False   \n",
       "1283                     False   \n",
       "\n",
       "                                                   area  \\\n",
       "0     {'id': '1', 'name': 'Москва', 'url': 'https://...   \n",
       "1     {'id': '1', 'name': 'Москва', 'url': 'https://...   \n",
       "2     {'id': '1', 'name': 'Москва', 'url': 'https://...   \n",
       "3     {'id': '1', 'name': 'Москва', 'url': 'https://...   \n",
       "4     {'id': '1', 'name': 'Москва', 'url': 'https://...   \n",
       "...                                                 ...   \n",
       "1279  {'id': '1', 'name': 'Москва', 'url': 'https://...   \n",
       "1280  {'id': '1', 'name': 'Москва', 'url': 'https://...   \n",
       "1281  {'id': '1', 'name': 'Москва', 'url': 'https://...   \n",
       "1282  {'id': '1', 'name': 'Москва', 'url': 'https://...   \n",
       "1283  {'id': '1', 'name': 'Москва', 'url': 'https://...   \n",
       "\n",
       "                                                 salary  \\\n",
       "0     {'from': 93900, 'to': None, 'currency': 'RUR',...   \n",
       "1     {'from': 98800, 'to': None, 'currency': 'RUR',...   \n",
       "2     {'from': 98800, 'to': None, 'currency': 'RUR',...   \n",
       "3     {'from': 119300, 'to': None, 'currency': 'RUR'...   \n",
       "4     {'from': 68400, 'to': None, 'currency': 'RUR',...   \n",
       "...                                                 ...   \n",
       "1279                                               None   \n",
       "1280                                               None   \n",
       "1281                                               None   \n",
       "1282  {'from': 119300, 'to': None, 'currency': 'RUR'...   \n",
       "1283  {'from': 146400, 'to': None, 'currency': 'RUR'...   \n",
       "\n",
       "                                       type  ...  \\\n",
       "0        {'id': 'open', 'name': 'Открытая'}  ...   \n",
       "1        {'id': 'open', 'name': 'Открытая'}  ...   \n",
       "2        {'id': 'open', 'name': 'Открытая'}  ...   \n",
       "3        {'id': 'open', 'name': 'Открытая'}  ...   \n",
       "4        {'id': 'open', 'name': 'Открытая'}  ...   \n",
       "...                                     ...  ...   \n",
       "1279     {'id': 'open', 'name': 'Открытая'}  ...   \n",
       "1280     {'id': 'open', 'name': 'Открытая'}  ...   \n",
       "1281     {'id': 'open', 'name': 'Открытая'}  ...   \n",
       "1282  {'id': 'direct', 'name': 'Рекламная'}  ...   \n",
       "1283  {'id': 'direct', 'name': 'Рекламная'}  ...   \n",
       "\n",
       "                                    apply_alternate_url  has_test  test  \\\n",
       "0     https://hh.ru/applicant/vacancy_response?vacan...     False  None   \n",
       "1     https://hh.ru/applicant/vacancy_response?vacan...     False  None   \n",
       "2     https://hh.ru/applicant/vacancy_response?vacan...     False  None   \n",
       "3     https://hh.ru/applicant/vacancy_response?vacan...     False  None   \n",
       "4     https://hh.ru/applicant/vacancy_response?vacan...     False  None   \n",
       "...                                                 ...       ...   ...   \n",
       "1279  https://hh.ru/applicant/vacancy_response?vacan...     False  None   \n",
       "1280  https://hh.ru/applicant/vacancy_response?vacan...     False  None   \n",
       "1281  https://hh.ru/applicant/vacancy_response?vacan...     False  None   \n",
       "1282  https://hh.ru/applicant/vacancy_response?vacan...     False  None   \n",
       "1283  https://hh.ru/applicant/vacancy_response?vacan...     False  None   \n",
       "\n",
       "                       alternate_url working_days working_time_intervals  \\\n",
       "0     https://hh.ru/vacancy/53361761           []                     []   \n",
       "1     https://hh.ru/vacancy/55415805           []                     []   \n",
       "2     https://hh.ru/vacancy/55415496           []                     []   \n",
       "3     https://hh.ru/vacancy/45790891           []                     []   \n",
       "4     https://hh.ru/vacancy/55889794           []                     []   \n",
       "...                              ...          ...                    ...   \n",
       "1279  https://hh.ru/vacancy/55416949           []                     []   \n",
       "1280  https://hh.ru/vacancy/67396237           []                     []   \n",
       "1281  https://hh.ru/vacancy/53931712           []                     []   \n",
       "1282  https://hh.ru/vacancy/67399016           []                     []   \n",
       "1283  https://hh.ru/vacancy/67399519           []                     []   \n",
       "\n",
       "     working_time_modes accept_temporary languages  \\\n",
       "0                    []            False        []   \n",
       "1                    []            False        []   \n",
       "2                    []            False        []   \n",
       "3                    []            False        []   \n",
       "4                    []            False        []   \n",
       "...                 ...              ...       ...   \n",
       "1279                 []            False        []   \n",
       "1280                 []            False        []   \n",
       "1281                 []            False        []   \n",
       "1282                 []            False        []   \n",
       "1283                 []            False        []   \n",
       "\n",
       "              immediate_redirect_url  \n",
       "0                                NaN  \n",
       "1                                NaN  \n",
       "2                                NaN  \n",
       "3                                NaN  \n",
       "4                                NaN  \n",
       "...                              ...  \n",
       "1279                             NaN  \n",
       "1280                             NaN  \n",
       "1281                             NaN  \n",
       "1282  https://hh.ru/vacancy/45790891  \n",
       "1283  https://hh.ru/vacancy/45381514  \n",
       "\n",
       "[1284 rows x 48 columns]"
      ]
     },
     "execution_count": 20,
     "metadata": {},
     "output_type": "execute_result"
    }
   ],
   "source": [
    "df"
   ]
  },
  {
   "cell_type": "code",
   "execution_count": 39,
   "metadata": {},
   "outputs": [
    {
     "data": {
      "text/plain": [
       "Index(['id', 'premium', 'billing_type', 'relations', 'name',\n",
       "       'insider_interview', 'response_letter_required', 'area', 'salary',\n",
       "       'type', 'address', 'allow_messages', 'experience', 'schedule',\n",
       "       'employment', 'department', 'contacts', 'description',\n",
       "       'branded_description', 'vacancy_constructor_template', 'key_skills',\n",
       "       'accept_handicapped', 'accept_kids', 'archived', 'response_url',\n",
       "       'specializations', 'professional_roles', 'code', 'hidden',\n",
       "       'quick_responses_allowed', 'driver_license_types',\n",
       "       'accept_incomplete_resumes', 'employer', 'published_at', 'created_at',\n",
       "       'initial_created_at', 'negotiations_url', 'suitable_resumes_url',\n",
       "       'apply_alternate_url', 'has_test', 'test', 'alternate_url',\n",
       "       'working_days', 'working_time_intervals', 'working_time_modes',\n",
       "       'accept_temporary', 'languages', 'immediate_redirect_url', 'skills'],\n",
       "      dtype='object')"
      ]
     },
     "execution_count": 39,
     "metadata": {},
     "output_type": "execute_result"
    }
   ],
   "source": [
    "df.columns"
   ]
  },
  {
   "cell_type": "code",
   "execution_count": 30,
   "metadata": {},
   "outputs": [],
   "source": [
    "df[\"skills\"] = 'skills'"
   ]
  },
  {
   "cell_type": "code",
   "execution_count": 31,
   "metadata": {},
   "outputs": [
    {
     "data": {
      "text/plain": [
       "Index(['id', 'premium', 'billing_type', 'relations', 'name',\n",
       "       'insider_interview', 'response_letter_required', 'area', 'salary',\n",
       "       'type', 'address', 'allow_messages', 'experience', 'schedule',\n",
       "       'employment', 'department', 'contacts', 'description',\n",
       "       'branded_description', 'vacancy_constructor_template', 'key_skills',\n",
       "       'accept_handicapped', 'accept_kids', 'archived', 'response_url',\n",
       "       'specializations', 'professional_roles', 'code', 'hidden',\n",
       "       'quick_responses_allowed', 'driver_license_types',\n",
       "       'accept_incomplete_resumes', 'employer', 'published_at', 'created_at',\n",
       "       'initial_created_at', 'negotiations_url', 'suitable_resumes_url',\n",
       "       'apply_alternate_url', 'has_test', 'test', 'alternate_url',\n",
       "       'working_days', 'working_time_intervals', 'working_time_modes',\n",
       "       'accept_temporary', 'languages', 'immediate_redirect_url', 'skills'],\n",
       "      dtype='object')"
      ]
     },
     "execution_count": 31,
     "metadata": {},
     "output_type": "execute_result"
    }
   ],
   "source": [
    "df.columns"
   ]
  },
  {
   "cell_type": "code",
   "execution_count": 56,
   "metadata": {},
   "outputs": [
    {
     "name": "stdout",
     "output_type": "stream",
     "text": [
      "<class 'pandas.core.frame.DataFrame'>\n",
      "RangeIndex: 1284 entries, 0 to 1283\n",
      "Data columns (total 49 columns):\n",
      " #   Column                        Non-Null Count  Dtype                                \n",
      "---  ------                        --------------  -----                                \n",
      " 0   id                            1284 non-null   object                               \n",
      " 1   premium                       1284 non-null   bool                                 \n",
      " 2   billing_type                  1284 non-null   object                               \n",
      " 3   relations                     1284 non-null   object                               \n",
      " 4   name                          1284 non-null   object                               \n",
      " 5   insider_interview             0 non-null      object                               \n",
      " 6   response_letter_required      1284 non-null   bool                                 \n",
      " 7   area                          1284 non-null   object                               \n",
      " 8   salary                        85 non-null     object                               \n",
      " 9   type                          1284 non-null   object                               \n",
      " 10  address                       526 non-null    object                               \n",
      " 11  allow_messages                1284 non-null   bool                                 \n",
      " 12  experience                    1284 non-null   object                               \n",
      " 13  schedule                      1284 non-null   object                               \n",
      " 14  employment                    1284 non-null   object                               \n",
      " 15  department                    1284 non-null   object                               \n",
      " 16  contacts                      0 non-null      object                               \n",
      " 17  description                   1284 non-null   object                               \n",
      " 18  branded_description           1025 non-null   object                               \n",
      " 19  vacancy_constructor_template  0 non-null      object                               \n",
      " 20  key_skills                    1284 non-null   object                               \n",
      " 21  accept_handicapped            1284 non-null   bool                                 \n",
      " 22  accept_kids                   1284 non-null   bool                                 \n",
      " 23  archived                      1284 non-null   bool                                 \n",
      " 24  response_url                  5 non-null      object                               \n",
      " 25  specializations               1284 non-null   object                               \n",
      " 26  professional_roles            1284 non-null   object                               \n",
      " 27  code                          29 non-null     object                               \n",
      " 28  hidden                        1284 non-null   bool                                 \n",
      " 29  quick_responses_allowed       1284 non-null   bool                                 \n",
      " 30  driver_license_types          1284 non-null   object                               \n",
      " 31  accept_incomplete_resumes     1284 non-null   bool                                 \n",
      " 32  employer                      1284 non-null   object                               \n",
      " 33  published_at                  1284 non-null   datetime64[ns, pytz.FixedOffset(180)]\n",
      " 34  created_at                    1284 non-null   object                               \n",
      " 35  initial_created_at            1284 non-null   object                               \n",
      " 36  negotiations_url              0 non-null      object                               \n",
      " 37  suitable_resumes_url          0 non-null      object                               \n",
      " 38  apply_alternate_url           1284 non-null   object                               \n",
      " 39  has_test                      1284 non-null   bool                                 \n",
      " 40  test                          3 non-null      object                               \n",
      " 41  alternate_url                 1284 non-null   object                               \n",
      " 42  working_days                  1284 non-null   object                               \n",
      " 43  working_time_intervals        1284 non-null   object                               \n",
      " 44  working_time_modes            1284 non-null   object                               \n",
      " 45  accept_temporary              1284 non-null   bool                                 \n",
      " 46  languages                     1284 non-null   object                               \n",
      " 47  immediate_redirect_url        5 non-null      object                               \n",
      " 48  skills                        1284 non-null   object                               \n",
      "dtypes: bool(11), datetime64[ns, pytz.FixedOffset(180)](1), object(37)\n",
      "memory usage: 209.5+ KB\n"
     ]
    }
   ],
   "source": [
    "df.published_at = pd.to_datetime(df.published_at)\n",
    "df.info()"
   ]
  },
  {
   "cell_type": "code",
   "execution_count": 57,
   "metadata": {},
   "outputs": [],
   "source": [
    "import matplotlib.pyplot as plt\n",
    "import seaborn as sns"
   ]
  },
  {
   "cell_type": "code",
   "execution_count": 73,
   "metadata": {
    "scrolled": true
   },
   "outputs": [
    {
     "data": {
      "image/png": "[encoded data removed]",
      "text/plain": [
       "<Figure size 1800x360 with 1 Axes>"
      ]
     },
     "metadata": {},
     "output_type": "display_data"
    }
   ],
   "source": [
    "sns.set(style='darkgrid')  \n",
    "sns.relplot(data = df, x='published_at', y='id', kind='line',\n",
    "    aspect=5)\n",
    "plt.title('График опубликованных вакансий по датам', size=20, color='black');"
   ]
  },
  {
   "cell_type": "code",
   "execution_count": 74,
   "metadata": {},
   "outputs": [],
   "source": [
    "df2 = df.copy()\n",
    "df2['day_of_week'] = df2['published_at'].dt.day_name()"
   ]
  },
  {
   "cell_type": "code",
   "execution_count": 75,
   "metadata": {},
   "outputs": [
    {
     "data": {
      "text/plain": [
       "'Wednesday'"
      ]
     },
     "execution_count": 75,
     "metadata": {},
     "output_type": "execute_result"
    }
   ],
   "source": [
    "df2_group = df2.groupby('day_of_week').count().reset_index()\n",
    "df2_group['day_of_week'].max()"
   ]
  }
 ],
 "metadata": {
  "kernelspec": {
   "display_name": "Python 3 (ipykernel)",
   "language": "python",
   "name": "python3"
  },
  "language_info": {
   "codemirror_mode": {
    "name": "ipython",
    "version": 3
   },
   "file_extension": ".py",
   "mimetype": "text/x-python",
   "name": "python",
   "nbconvert_exporter": "python",
   "pygments_lexer": "ipython3",
   "version": "3.9.7"
  },
  "toc": {
   "base_numbering": 1,
   "nav_menu": {},
   "number_sections": true,
   "sideBar": true,
   "skip_h1_title": false,
   "title_cell": "Table of Contents",
   "title_sidebar": "Contents",
   "toc_cell": true,
   "toc_position": {},
   "toc_section_display": true,
   "toc_window_display": false
  }
 },
 "nbformat": 4,
 "nbformat_minor": 4
}
